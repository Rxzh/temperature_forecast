{
 "cells": [
  {
   "cell_type": "code",
   "execution_count": 15,
   "id": "bcbcfc74",
   "metadata": {},
   "outputs": [],
   "source": [
    "from model import VAE\n",
    "from trainer import Trainer\n",
    "import torch\n",
    "import torch.nn as nn\n",
    "import torch.nn.functional as F\n",
    "import torch.optim as optim\n",
    "from torch.utils.data import DataLoader, Dataset\n",
    "import numpy as np"
   ]
  },
  {
   "cell_type": "code",
   "execution_count": 10,
   "id": "a0bea105",
   "metadata": {},
   "outputs": [],
   "source": [
    "import torch\n",
    "from torch.utils.data import Dataset, DataLoader\n",
    "\n",
    "#dummy dataset\n",
    "class DummyDataset(Dataset):\n",
    "    def __init__(self, num_samples, input_shape):\n",
    "        self.num_samples = num_samples\n",
    "        self.input_shape = input_shape\n",
    "\n",
    "    def __len__(self):\n",
    "        return self.num_samples\n",
    "\n",
    "    def __getitem__(self, idx):\n",
    "        # Generate a random x input\n",
    "        x = torch.rand(self.input_shape)\n",
    "        return x\n",
    "\n",
    "# Parameters\n",
    "num_samples = 100  # Number of samples in the dataset\n",
    "input_shape = (1, 384, 320)  # Shape of the input x\n",
    "\n",
    "# Create the dataset\n",
    "dataset = DummyDataset(num_samples, input_shape)\n",
    "\n",
    "# Create the dataloader\n",
    "batch_size = 16\n",
    "train_dataloader = DataLoader(dataset, batch_size=batch_size, shuffle=True)\n",
    "val_dataloader = DataLoader(dataset, batch_size=batch_size, shuffle=True)\n",
    "\n"
   ]
  },
  {
   "cell_type": "code",
   "execution_count": 11,
   "id": "dfc5e3ea",
   "metadata": {},
   "outputs": [],
   "source": [
    "device = torch.device('cuda' if torch.cuda.is_available() else 'cpu')\n",
    "vae = VAE(image_channels=1, latent_dim=4, device=device).to(device)"
   ]
  },
  {
   "cell_type": "code",
   "execution_count": 12,
   "id": "99724388",
   "metadata": {},
   "outputs": [
    {
     "name": "stdout",
     "output_type": "stream",
     "text": [
      "VAE Loss: 2.0286290645599365, Reconstruction Loss: 1.192907452583313, KL Loss: 0.12935638427734375, Generator Loss: 0.706365168094635\n"
     ]
    }
   ],
   "source": [
    "\n",
    "\n",
    "optimizer = optim.Adam(vae.parameters(), lr=1e-3)\n",
    "criterion = nn.MSELoss()\n",
    "\n",
    "# Generate a random tensor with the shape (b, 1, 384, 320)\n",
    "batch_size = 8\n",
    "random_tensor = torch.randn(batch_size, 1, 384, 320).to(device)\n",
    "\n",
    "# Run a single epoch with the random tensor\n",
    "vae_loss, rec_loss, kl_loss, g_loss = vae._run_epoch(random_tensor, optimizer, criterion)\n",
    "print(f\"VAE Loss: {vae_loss}, Reconstruction Loss: {rec_loss}, KL Loss: {kl_loss}, Generator Loss: {g_loss}\")\n"
   ]
  },
  {
   "cell_type": "code",
   "execution_count": 13,
   "id": "f912f30b",
   "metadata": {},
   "outputs": [],
   "source": [
    "\n",
    "class RandomDataset(Dataset):\n",
    "    def __init__(self, size, shape):\n",
    "        self.data = torch.randn(size, *shape)\n",
    "    def __len__(self):\n",
    "        return len(self.data)\n",
    "    def __getitem__(self, idx):\n",
    "        return self.data[idx]\n",
    "\n",
    "batch_size = 8\n",
    "train_dataset = RandomDataset(100, (1, 384, 320))\n",
    "val_dataset = RandomDataset(20, (1, 384, 320))\n",
    "train_loader = DataLoader(train_dataset, batch_size=batch_size, shuffle=True)\n",
    "val_loader = DataLoader(val_dataset, batch_size=batch_size, shuffle=False)\n",
    "\n",
    "device = torch.device('cuda' if torch.cuda.is_available() else 'cpu')\n",
    "vae = VAE(image_channels=1, latent_dim=4, device=device).to(device)\n",
    "optimizer = optim.Adam(vae.parameters(), lr=1e-3)\n",
    "criterion = nn.MSELoss()\n",
    "\n",
    "trainer = Trainer(vae, train_loader, val_loader, criterion, optimizer, device=device)\n",
    "trainer.train(num_epochs=10)\n"
   ]
  }
 ],
 "metadata": {
  "kernelspec": {
   "display_name": "Python 3 (ipykernel)",
   "language": "python",
   "name": "python3"
  },
  "language_info": {
   "codemirror_mode": {
    "name": "ipython",
    "version": 3
   },
   "file_extension": ".py",
   "mimetype": "text/x-python",
   "name": "python",
   "nbconvert_exporter": "python",
   "pygments_lexer": "ipython3",
   "version": "3.9.19"
  }
 },
 "nbformat": 4,
 "nbformat_minor": 5
}
